{
 "cells": [
  {
   "cell_type": "markdown",
   "metadata": {},
   "source": [
    "Instructions To Run:\n",
    "-----------------------------\n",
    "Copy the DS_challenge.ipynb(source code) to the directory that has transactions.txt file.\n",
    "After this you should be able to execute the notebook seamlessly."
   ]
  },
  {
   "cell_type": "markdown",
   "metadata": {},
   "source": [
    "**Question 1: Load**\n",
    "\n",
    "Programmatically download and load into your favorite analytical tool the transactions data. This data, which is in line-delimited JSON format, can be found here\n",
    "Please describe the structure of the data. Number of records and fields in each record?\n",
    "Please provide some additional basic summary statistics for each field. Be sure to include a count of null, minimum, maximum, and unique values where appropriate."
   ]
  },
  {
   "cell_type": "code",
   "execution_count": 1,
   "metadata": {},
   "outputs": [],
   "source": [
    "import pandas as pd\n",
    "import numpy as np\n",
    "import matplotlib.pyplot as plt\n",
    "import seaborn as sns\n"
   ]
  },
  {
   "cell_type": "code",
   "execution_count": 2,
   "metadata": {},
   "outputs": [],
   "source": [
    "transaction_data = pd.read_json (r'transactions.txt',lines=True)"
   ]
  },
  {
   "cell_type": "code",
   "execution_count": 3,
   "metadata": {},
   "outputs": [
    {
     "data": {
      "text/html": [
       "<div>\n",
       "<style scoped>\n",
       "    .dataframe tbody tr th:only-of-type {\n",
       "        vertical-align: middle;\n",
       "    }\n",
       "\n",
       "    .dataframe tbody tr th {\n",
       "        vertical-align: top;\n",
       "    }\n",
       "\n",
       "    .dataframe thead th {\n",
       "        text-align: right;\n",
       "    }\n",
       "</style>\n",
       "<table border=\"1\" class=\"dataframe\">\n",
       "  <thead>\n",
       "    <tr style=\"text-align: right;\">\n",
       "      <th></th>\n",
       "      <th>accountNumber</th>\n",
       "      <th>customerId</th>\n",
       "      <th>creditLimit</th>\n",
       "      <th>availableMoney</th>\n",
       "      <th>transactionDateTime</th>\n",
       "      <th>transactionAmount</th>\n",
       "      <th>merchantName</th>\n",
       "      <th>acqCountry</th>\n",
       "      <th>merchantCountryCode</th>\n",
       "      <th>posEntryMode</th>\n",
       "      <th>...</th>\n",
       "      <th>echoBuffer</th>\n",
       "      <th>currentBalance</th>\n",
       "      <th>merchantCity</th>\n",
       "      <th>merchantState</th>\n",
       "      <th>merchantZip</th>\n",
       "      <th>cardPresent</th>\n",
       "      <th>posOnPremises</th>\n",
       "      <th>recurringAuthInd</th>\n",
       "      <th>expirationDateKeyInMatch</th>\n",
       "      <th>isFraud</th>\n",
       "    </tr>\n",
       "  </thead>\n",
       "  <tbody>\n",
       "    <tr>\n",
       "      <th>0</th>\n",
       "      <td>737265056</td>\n",
       "      <td>737265056</td>\n",
       "      <td>5000</td>\n",
       "      <td>5000.0</td>\n",
       "      <td>2016-08-13T14:27:32</td>\n",
       "      <td>98.55</td>\n",
       "      <td>Uber</td>\n",
       "      <td>US</td>\n",
       "      <td>US</td>\n",
       "      <td>02</td>\n",
       "      <td>...</td>\n",
       "      <td></td>\n",
       "      <td>0.0</td>\n",
       "      <td></td>\n",
       "      <td></td>\n",
       "      <td></td>\n",
       "      <td>False</td>\n",
       "      <td></td>\n",
       "      <td></td>\n",
       "      <td>False</td>\n",
       "      <td>False</td>\n",
       "    </tr>\n",
       "    <tr>\n",
       "      <th>1</th>\n",
       "      <td>737265056</td>\n",
       "      <td>737265056</td>\n",
       "      <td>5000</td>\n",
       "      <td>5000.0</td>\n",
       "      <td>2016-10-11T05:05:54</td>\n",
       "      <td>74.51</td>\n",
       "      <td>AMC #191138</td>\n",
       "      <td>US</td>\n",
       "      <td>US</td>\n",
       "      <td>09</td>\n",
       "      <td>...</td>\n",
       "      <td></td>\n",
       "      <td>0.0</td>\n",
       "      <td></td>\n",
       "      <td></td>\n",
       "      <td></td>\n",
       "      <td>True</td>\n",
       "      <td></td>\n",
       "      <td></td>\n",
       "      <td>False</td>\n",
       "      <td>False</td>\n",
       "    </tr>\n",
       "    <tr>\n",
       "      <th>2</th>\n",
       "      <td>737265056</td>\n",
       "      <td>737265056</td>\n",
       "      <td>5000</td>\n",
       "      <td>5000.0</td>\n",
       "      <td>2016-11-08T09:18:39</td>\n",
       "      <td>7.47</td>\n",
       "      <td>Play Store</td>\n",
       "      <td>US</td>\n",
       "      <td>US</td>\n",
       "      <td>09</td>\n",
       "      <td>...</td>\n",
       "      <td></td>\n",
       "      <td>0.0</td>\n",
       "      <td></td>\n",
       "      <td></td>\n",
       "      <td></td>\n",
       "      <td>False</td>\n",
       "      <td></td>\n",
       "      <td></td>\n",
       "      <td>False</td>\n",
       "      <td>False</td>\n",
       "    </tr>\n",
       "    <tr>\n",
       "      <th>3</th>\n",
       "      <td>737265056</td>\n",
       "      <td>737265056</td>\n",
       "      <td>5000</td>\n",
       "      <td>5000.0</td>\n",
       "      <td>2016-12-10T02:14:50</td>\n",
       "      <td>7.47</td>\n",
       "      <td>Play Store</td>\n",
       "      <td>US</td>\n",
       "      <td>US</td>\n",
       "      <td>09</td>\n",
       "      <td>...</td>\n",
       "      <td></td>\n",
       "      <td>0.0</td>\n",
       "      <td></td>\n",
       "      <td></td>\n",
       "      <td></td>\n",
       "      <td>False</td>\n",
       "      <td></td>\n",
       "      <td></td>\n",
       "      <td>False</td>\n",
       "      <td>False</td>\n",
       "    </tr>\n",
       "    <tr>\n",
       "      <th>4</th>\n",
       "      <td>830329091</td>\n",
       "      <td>830329091</td>\n",
       "      <td>5000</td>\n",
       "      <td>5000.0</td>\n",
       "      <td>2016-03-24T21:04:46</td>\n",
       "      <td>71.18</td>\n",
       "      <td>Tim Hortons #947751</td>\n",
       "      <td>US</td>\n",
       "      <td>US</td>\n",
       "      <td>02</td>\n",
       "      <td>...</td>\n",
       "      <td></td>\n",
       "      <td>0.0</td>\n",
       "      <td></td>\n",
       "      <td></td>\n",
       "      <td></td>\n",
       "      <td>True</td>\n",
       "      <td></td>\n",
       "      <td></td>\n",
       "      <td>False</td>\n",
       "      <td>False</td>\n",
       "    </tr>\n",
       "  </tbody>\n",
       "</table>\n",
       "<p>5 rows × 29 columns</p>\n",
       "</div>"
      ],
      "text/plain": [
       "   accountNumber  customerId  creditLimit  availableMoney  \\\n",
       "0      737265056   737265056         5000          5000.0   \n",
       "1      737265056   737265056         5000          5000.0   \n",
       "2      737265056   737265056         5000          5000.0   \n",
       "3      737265056   737265056         5000          5000.0   \n",
       "4      830329091   830329091         5000          5000.0   \n",
       "\n",
       "   transactionDateTime  transactionAmount         merchantName acqCountry  \\\n",
       "0  2016-08-13T14:27:32              98.55                 Uber         US   \n",
       "1  2016-10-11T05:05:54              74.51          AMC #191138         US   \n",
       "2  2016-11-08T09:18:39               7.47           Play Store         US   \n",
       "3  2016-12-10T02:14:50               7.47           Play Store         US   \n",
       "4  2016-03-24T21:04:46              71.18  Tim Hortons #947751         US   \n",
       "\n",
       "  merchantCountryCode posEntryMode  ... echoBuffer currentBalance  \\\n",
       "0                  US           02  ...                       0.0   \n",
       "1                  US           09  ...                       0.0   \n",
       "2                  US           09  ...                       0.0   \n",
       "3                  US           09  ...                       0.0   \n",
       "4                  US           02  ...                       0.0   \n",
       "\n",
       "  merchantCity merchantState merchantZip  cardPresent  posOnPremises  \\\n",
       "0                                               False                  \n",
       "1                                                True                  \n",
       "2                                               False                  \n",
       "3                                               False                  \n",
       "4                                                True                  \n",
       "\n",
       "   recurringAuthInd expirationDateKeyInMatch isFraud  \n",
       "0                                      False   False  \n",
       "1                                      False   False  \n",
       "2                                      False   False  \n",
       "3                                      False   False  \n",
       "4                                      False   False  \n",
       "\n",
       "[5 rows x 29 columns]"
      ]
     },
     "execution_count": 3,
     "metadata": {},
     "output_type": "execute_result"
    }
   ],
   "source": [
    "transaction_data.head()"
   ]
  },
  {
   "cell_type": "code",
   "execution_count": 4,
   "metadata": {},
   "outputs": [
    {
     "name": "stdout",
     "output_type": "stream",
     "text": [
      "Index(['accountNumber', 'customerId', 'creditLimit', 'availableMoney',\n",
      "       'transactionDateTime', 'transactionAmount', 'merchantName',\n",
      "       'acqCountry', 'merchantCountryCode', 'posEntryMode', 'posConditionCode',\n",
      "       'merchantCategoryCode', 'currentExpDate', 'accountOpenDate',\n",
      "       'dateOfLastAddressChange', 'cardCVV', 'enteredCVV', 'cardLast4Digits',\n",
      "       'transactionType', 'echoBuffer', 'currentBalance', 'merchantCity',\n",
      "       'merchantState', 'merchantZip', 'cardPresent', 'posOnPremises',\n",
      "       'recurringAuthInd', 'expirationDateKeyInMatch', 'isFraud'],\n",
      "      dtype='object')\n",
      "(786363, 29)\n"
     ]
    }
   ],
   "source": [
    "print(transaction_data.columns)\n",
    "print(transaction_data.shape)\n",
    "#Observation : The data given has 29 columns and 786363 rows in total."
   ]
  },
  {
   "cell_type": "code",
   "execution_count": 5,
   "metadata": {},
   "outputs": [
    {
     "name": "stderr",
     "output_type": "stream",
     "text": [
      "C:\\Users\\vamsh\\AppData\\Local\\Continuum\\anaconda3\\lib\\site-packages\\pandas\\core\\ops\\__init__.py:1115: FutureWarning: elementwise comparison failed; returning scalar instead, but in the future will perform elementwise comparison\n",
      "  result = method(y)\n"
     ]
    },
    {
     "name": "stdout",
     "output_type": "stream",
     "text": [
      "accountNumber 786363\n",
      "customerId 786363\n",
      "creditLimit 786363\n",
      "availableMoney 786363\n",
      "transactionDateTime 786363\n",
      "transactionAmount 786363\n",
      "merchantName 786363\n",
      "acqCountry 781801\n",
      "merchantCountryCode 785639\n",
      "posEntryMode 782309\n",
      "posConditionCode 785954\n",
      "merchantCategoryCode 786363\n",
      "currentExpDate 786363\n",
      "accountOpenDate 786363\n",
      "dateOfLastAddressChange 786363\n",
      "cardCVV 786363\n",
      "enteredCVV 786363\n",
      "cardLast4Digits 786363\n",
      "transactionType 785665\n",
      "echoBuffer 0\n",
      "currentBalance 786363\n",
      "merchantCity 0\n",
      "merchantState 0\n",
      "merchantZip 0\n",
      "cardPresent 786363\n",
      "posOnPremises 0\n",
      "recurringAuthInd 0\n",
      "expirationDateKeyInMatch 786363\n",
      "isFraud 786363\n"
     ]
    }
   ],
   "source": [
    "##To get the number of non-empty values for each column. \n",
    "##This step helps us to identify the columns for which data doesn't exist at all\n",
    "\n",
    "for col in transaction_data.columns:\n",
    "    print(col, len(transaction_data[transaction_data[col] != '']))\n"
   ]
  },
  {
   "cell_type": "markdown",
   "metadata": {},
   "source": [
    " **Observation:**\n",
    " \n",
    " We can observe that the following columns have no information: [echoBuffer, merchantCity, merchantState, merchantZip, posOnPremises, recurringAuthInd]\n",
    " These columns serve no use and can be dropped from the dataset."
   ]
  },
  {
   "cell_type": "code",
   "execution_count": 6,
   "metadata": {},
   "outputs": [],
   "source": [
    "transaction_data.drop(['echoBuffer', 'merchantCity', 'merchantState', 'merchantZip', 'posOnPremises', 'recurringAuthInd'], axis = 1, inplace = True)"
   ]
  },
  {
   "cell_type": "code",
   "execution_count": 7,
   "metadata": {},
   "outputs": [
    {
     "data": {
      "text/plain": [
       "accountNumber                 5000\n",
       "customerId                    5000\n",
       "creditLimit                     10\n",
       "availableMoney              521915\n",
       "transactionDateTime         776637\n",
       "transactionAmount            66038\n",
       "merchantName                  2490\n",
       "acqCountry                       5\n",
       "merchantCountryCode              5\n",
       "posEntryMode                     6\n",
       "posConditionCode                 4\n",
       "merchantCategoryCode            19\n",
       "currentExpDate                 165\n",
       "accountOpenDate               1820\n",
       "dateOfLastAddressChange       2184\n",
       "cardCVV                        899\n",
       "enteredCVV                     976\n",
       "cardLast4Digits               5245\n",
       "transactionType                  4\n",
       "currentBalance              487318\n",
       "cardPresent                      2\n",
       "expirationDateKeyInMatch         2\n",
       "isFraud                          2\n",
       "dtype: int64"
      ]
     },
     "execution_count": 7,
     "metadata": {},
     "output_type": "execute_result"
    }
   ],
   "source": [
    "#Number of unique values in each field\n",
    "transaction_data.nunique()"
   ]
  },
  {
   "cell_type": "code",
   "execution_count": 8,
   "metadata": {
    "scrolled": true
   },
   "outputs": [
    {
     "data": {
      "text/html": [
       "<div>\n",
       "<style scoped>\n",
       "    .dataframe tbody tr th:only-of-type {\n",
       "        vertical-align: middle;\n",
       "    }\n",
       "\n",
       "    .dataframe tbody tr th {\n",
       "        vertical-align: top;\n",
       "    }\n",
       "\n",
       "    .dataframe thead th {\n",
       "        text-align: right;\n",
       "    }\n",
       "</style>\n",
       "<table border=\"1\" class=\"dataframe\">\n",
       "  <thead>\n",
       "    <tr style=\"text-align: right;\">\n",
       "      <th></th>\n",
       "      <th>accountNumber</th>\n",
       "      <th>customerId</th>\n",
       "      <th>creditLimit</th>\n",
       "      <th>availableMoney</th>\n",
       "      <th>transactionAmount</th>\n",
       "      <th>cardCVV</th>\n",
       "      <th>enteredCVV</th>\n",
       "      <th>cardLast4Digits</th>\n",
       "      <th>currentBalance</th>\n",
       "    </tr>\n",
       "  </thead>\n",
       "  <tbody>\n",
       "    <tr>\n",
       "      <th>count</th>\n",
       "      <td>7.863630e+05</td>\n",
       "      <td>7.863630e+05</td>\n",
       "      <td>786363.000000</td>\n",
       "      <td>786363.000000</td>\n",
       "      <td>786363.000000</td>\n",
       "      <td>786363.000000</td>\n",
       "      <td>786363.000000</td>\n",
       "      <td>786363.000000</td>\n",
       "      <td>786363.000000</td>\n",
       "    </tr>\n",
       "    <tr>\n",
       "      <th>mean</th>\n",
       "      <td>5.372326e+08</td>\n",
       "      <td>5.372326e+08</td>\n",
       "      <td>10759.464459</td>\n",
       "      <td>6250.725369</td>\n",
       "      <td>136.985791</td>\n",
       "      <td>544.467338</td>\n",
       "      <td>544.183857</td>\n",
       "      <td>4757.417799</td>\n",
       "      <td>4508.739089</td>\n",
       "    </tr>\n",
       "    <tr>\n",
       "      <th>std</th>\n",
       "      <td>2.554211e+08</td>\n",
       "      <td>2.554211e+08</td>\n",
       "      <td>11636.174890</td>\n",
       "      <td>8880.783989</td>\n",
       "      <td>147.725569</td>\n",
       "      <td>261.524220</td>\n",
       "      <td>261.551254</td>\n",
       "      <td>2996.583810</td>\n",
       "      <td>6457.442068</td>\n",
       "    </tr>\n",
       "    <tr>\n",
       "      <th>min</th>\n",
       "      <td>1.000881e+08</td>\n",
       "      <td>1.000881e+08</td>\n",
       "      <td>250.000000</td>\n",
       "      <td>-1005.630000</td>\n",
       "      <td>0.000000</td>\n",
       "      <td>100.000000</td>\n",
       "      <td>0.000000</td>\n",
       "      <td>0.000000</td>\n",
       "      <td>0.000000</td>\n",
       "    </tr>\n",
       "    <tr>\n",
       "      <th>25%</th>\n",
       "      <td>3.301333e+08</td>\n",
       "      <td>3.301333e+08</td>\n",
       "      <td>5000.000000</td>\n",
       "      <td>1077.420000</td>\n",
       "      <td>33.650000</td>\n",
       "      <td>310.000000</td>\n",
       "      <td>310.000000</td>\n",
       "      <td>2178.000000</td>\n",
       "      <td>689.910000</td>\n",
       "    </tr>\n",
       "    <tr>\n",
       "      <th>50%</th>\n",
       "      <td>5.074561e+08</td>\n",
       "      <td>5.074561e+08</td>\n",
       "      <td>7500.000000</td>\n",
       "      <td>3184.860000</td>\n",
       "      <td>87.900000</td>\n",
       "      <td>535.000000</td>\n",
       "      <td>535.000000</td>\n",
       "      <td>4733.000000</td>\n",
       "      <td>2451.760000</td>\n",
       "    </tr>\n",
       "    <tr>\n",
       "      <th>75%</th>\n",
       "      <td>7.676200e+08</td>\n",
       "      <td>7.676200e+08</td>\n",
       "      <td>15000.000000</td>\n",
       "      <td>7500.000000</td>\n",
       "      <td>191.480000</td>\n",
       "      <td>785.000000</td>\n",
       "      <td>785.000000</td>\n",
       "      <td>7338.000000</td>\n",
       "      <td>5291.095000</td>\n",
       "    </tr>\n",
       "    <tr>\n",
       "      <th>max</th>\n",
       "      <td>9.993896e+08</td>\n",
       "      <td>9.993896e+08</td>\n",
       "      <td>50000.000000</td>\n",
       "      <td>50000.000000</td>\n",
       "      <td>2011.540000</td>\n",
       "      <td>998.000000</td>\n",
       "      <td>998.000000</td>\n",
       "      <td>9998.000000</td>\n",
       "      <td>47498.810000</td>\n",
       "    </tr>\n",
       "  </tbody>\n",
       "</table>\n",
       "</div>"
      ],
      "text/plain": [
       "       accountNumber    customerId    creditLimit  availableMoney  \\\n",
       "count   7.863630e+05  7.863630e+05  786363.000000   786363.000000   \n",
       "mean    5.372326e+08  5.372326e+08   10759.464459     6250.725369   \n",
       "std     2.554211e+08  2.554211e+08   11636.174890     8880.783989   \n",
       "min     1.000881e+08  1.000881e+08     250.000000    -1005.630000   \n",
       "25%     3.301333e+08  3.301333e+08    5000.000000     1077.420000   \n",
       "50%     5.074561e+08  5.074561e+08    7500.000000     3184.860000   \n",
       "75%     7.676200e+08  7.676200e+08   15000.000000     7500.000000   \n",
       "max     9.993896e+08  9.993896e+08   50000.000000    50000.000000   \n",
       "\n",
       "       transactionAmount        cardCVV     enteredCVV  cardLast4Digits  \\\n",
       "count      786363.000000  786363.000000  786363.000000    786363.000000   \n",
       "mean          136.985791     544.467338     544.183857      4757.417799   \n",
       "std           147.725569     261.524220     261.551254      2996.583810   \n",
       "min             0.000000     100.000000       0.000000         0.000000   \n",
       "25%            33.650000     310.000000     310.000000      2178.000000   \n",
       "50%            87.900000     535.000000     535.000000      4733.000000   \n",
       "75%           191.480000     785.000000     785.000000      7338.000000   \n",
       "max          2011.540000     998.000000     998.000000      9998.000000   \n",
       "\n",
       "       currentBalance  \n",
       "count   786363.000000  \n",
       "mean      4508.739089  \n",
       "std       6457.442068  \n",
       "min          0.000000  \n",
       "25%        689.910000  \n",
       "50%       2451.760000  \n",
       "75%       5291.095000  \n",
       "max      47498.810000  "
      ]
     },
     "execution_count": 8,
     "metadata": {},
     "output_type": "execute_result"
    }
   ],
   "source": [
    "# To describe (min,max,count etc.) the distribution of the numerical fields in the dataset.\n",
    "transaction_data.describe(include = [np.number])"
   ]
  },
  {
   "cell_type": "code",
   "execution_count": 9,
   "metadata": {},
   "outputs": [
    {
     "name": "stdout",
     "output_type": "stream",
     "text": [
      "accountNumber                 int64\n",
      "customerId                    int64\n",
      "creditLimit                   int64\n",
      "availableMoney              float64\n",
      "transactionDateTime          object\n",
      "transactionAmount           float64\n",
      "merchantName                 object\n",
      "acqCountry                   object\n",
      "merchantCountryCode          object\n",
      "posEntryMode                 object\n",
      "posConditionCode             object\n",
      "merchantCategoryCode         object\n",
      "currentExpDate               object\n",
      "accountOpenDate              object\n",
      "dateOfLastAddressChange      object\n",
      "cardCVV                       int64\n",
      "enteredCVV                    int64\n",
      "cardLast4Digits               int64\n",
      "transactionType              object\n",
      "currentBalance              float64\n",
      "cardPresent                    bool\n",
      "expirationDateKeyInMatch       bool\n",
      "isFraud                        bool\n",
      "dtype: object\n"
     ]
    }
   ],
   "source": [
    "##To osberve data types in the dataframe. transactionDateTime is converted from string to datatime format\n",
    "print(transaction_data.dtypes)\n",
    "transaction_data['transactionDateTime'] = pd.to_datetime(transaction_data['transactionDateTime'], infer_datetime_format=True)\n"
   ]
  },
  {
   "cell_type": "markdown",
   "metadata": {},
   "source": [
    "**Question 2: Plot** \n",
    "\n",
    "Plot a histogram of the processed amounts of each transaction, the transactionAmount column.\n",
    "Report any structure you find and any hypotheses you have about that structure."
   ]
  },
  {
   "cell_type": "code",
   "execution_count": 10,
   "metadata": {},
   "outputs": [
    {
     "name": "stdout",
     "output_type": "stream",
     "text": [
      "1.0\n"
     ]
    }
   ],
   "source": [
    "print(np.sum(transaction_data['accountNumber'] == transaction_data['customerId'])/len(transaction_data))\n",
    "## all transactions have same accountNumber and customerId - this means the columns are duplicate and we can drop one\n",
    "\n",
    "transaction_data.drop(['customerId'], axis = 1, inplace = True)"
   ]
  },
  {
   "cell_type": "code",
   "execution_count": 12,
   "metadata": {},
   "outputs": [
    {
     "data": {
      "text/plain": [
       "[Text(0, 0, 'PURCHASE'),\n",
       " Text(0, 0, 'ADDRESS_VERIFICATION'),\n",
       " Text(0, 0, 'REVERSAL'),\n",
       " Text(0, 0, '')]"
      ]
     },
     "execution_count": 12,
     "metadata": {},
     "output_type": "execute_result"
    },
    {
     "data": {
      "image/png": "[encoded data removed]",
      "text/plain": [
       "<Figure size 432x288 with 1 Axes>"
      ]
     },
     "metadata": {
      "needs_background": "light"
     },
     "output_type": "display_data"
    }
   ],
   "source": [
    "plot = sns.countplot(transaction_data['transactionType'])\n",
    "plot.set_xticklabels(plot.get_xticklabels(), rotation=45,horizontalalignment='right')\n",
    "\n",
    "#We can observe that there are three types of transactions - Purchase, Address verification (amt is 0), and Reversals.\n",
    "#Majority are purchases"
   ]
  },
  {
   "cell_type": "code",
   "execution_count": 13,
   "metadata": {
    "scrolled": true
   },
   "outputs": [
    {
     "data": {
      "text/plain": [
       "<matplotlib.axes._subplots.AxesSubplot at 0x1b806efb5c8>"
      ]
     },
     "execution_count": 13,
     "metadata": {},
     "output_type": "execute_result"
    },
    {
     "data": {
      "image/png": "[encoded data removed]",
      "text/plain": [
       "<Figure size 432x288 with 1 Axes>"
      ]
     },
     "metadata": {
      "needs_background": "light"
     },
     "output_type": "display_data"
    }
   ],
   "source": [
    "np.log1p(transaction_data['transactionAmount']).hist()\n",
    "## histogram of log transformed values on x-axis. "
   ]
  },
  {
   "cell_type": "code",
   "execution_count": 14,
   "metadata": {},
   "outputs": [
    {
     "data": {
      "text/plain": [
       "(array([6.02151e+05, 1.35834e+05, 3.56060e+04, 9.44000e+03, 2.41400e+03,\n",
       "        6.76000e+02, 1.88000e+02, 4.30000e+01, 8.00000e+00, 3.00000e+00]),\n",
       " array([   0.   ,  201.154,  402.308,  603.462,  804.616, 1005.77 ,\n",
       "        1206.924, 1408.078, 1609.232, 1810.386, 2011.54 ]),\n",
       " <a list of 10 Patch objects>)"
      ]
     },
     "execution_count": 14,
     "metadata": {},
     "output_type": "execute_result"
    },
    {
     "data": {
      "image/png": "[encoded data removed]",
      "text/plain": [
       "<Figure size 432x288 with 1 Axes>"
      ]
     },
     "metadata": {
      "needs_background": "light"
     },
     "output_type": "display_data"
    }
   ],
   "source": [
    "plt.hist(transaction_data['transactionAmount'], log=True)\n",
    "## histogram with log frequency count plotted on y-axis"
   ]
  },
  {
   "cell_type": "markdown",
   "metadata": {},
   "source": [
    "**Interesting observation:**\n",
    "\n",
    "1. From the first histogram: chart is left skewed, that is left tail is longer. Large transaction amounts(right tail) are rare\n",
    "2. From the second histogram: log of frequency count vs transaction values appears linear.That means transaction count is highest for small amounts and decreases exponentially as amount increases"
   ]
  },
  {
   "cell_type": "markdown",
   "metadata": {},
   "source": [
    "**Question 3**: Data Wrangling - Duplicate Transactions\n",
    "You will notice a number of what look like duplicated transactions in the data set. One type of duplicated transaction is a reversed transaction, where a purchase is followed by a reversal. Another example is a multi-swipe, where a vendor accidentally charges a customer's card multiple times within a short time span.\n",
    "\n",
    "Can you programmatically identify reversed and multi-swipe transactions?\n",
    "What total number of transactions and total dollar amount do you estimate for the reversed transactions? For the multi-swipe transactions? (please consider the first transaction to be \"normal\" and exclude it from the number of transactions and dollar amount counts)\n",
    "Did you find anything interesting about either kind of transaction?"
   ]
  },
  {
   "cell_type": "code",
   "execution_count": 16,
   "metadata": {},
   "outputs": [
    {
     "data": {
      "text/plain": [
       "0.09452377591519438"
      ]
     },
     "execution_count": 16,
     "metadata": {},
     "output_type": "execute_result"
    }
   ],
   "source": [
    "## Checking the duplicated transactions - this can be used to identify multi swipe transactions\n",
    "\n",
    "transaction_data['is_duplicated'] = transaction_data.duplicated(['accountNumber','transactionAmount','merchantName','cardLast4Digits','merchantCategoryCode'])\n",
    "transaction_data['is_duplicated'].sum()/len(transaction_data)\n"
   ]
  },
  {
   "cell_type": "code",
   "execution_count": 17,
   "metadata": {},
   "outputs": [
    {
     "name": "stdout",
     "output_type": "stream",
     "text": [
      "35427\n"
     ]
    }
   ],
   "source": [
    "## To identify multi swipe transaction\n",
    "def time_diff(t1,t2):\n",
    "    return(t1['transactionDateTime']-t2['transactionDateTime'] < pd.Timedelta(minutes=2))\n",
    "\n",
    "new_col = transaction_data[transaction_data['is_duplicated']].sort_values('transactionDateTime').groupby(['accountNumber','transactionAmount','merchantName','cardLast4Digits','merchantCategoryCode'],as_index=False)\\\n",
    ".apply(lambda x : time_diff(x.iloc[-1],x))\n",
    "\n",
    "transaction_data['is_multiswipe'] =  new_col.reset_index(level=0, drop=True)\n",
    "\n",
    "transaction_data['is_multiswipe'].fillna(False, inplace = True)\n",
    "print(sum(transaction_data['is_multiswipe']))\n"
   ]
  },
  {
   "cell_type": "markdown",
   "metadata": {},
   "source": [
    "**Observations:**\n",
    "\n",
    "About 9.45% of the total transactions are duplicates. Assuming transactions can be unqiuely identified by 'accountNumber','transactionAmount','merchantName','cardLast4Digits','merchantCategoryCode' fields.\n",
    "\n",
    "A total of 35,427 transactions are likely to be multiswipe transactions, that can be removed from the dataset.\n",
    "Assumptions: \n",
    "1. Multi swipe transactions can be identified using the following columns: 'accountNumber','transactionAmount','merchantName','cardLast4Digits','merchantCategoryCode' and are with in 2 minutes of time.\n",
    "2. I'm assuming these columns can uniquely identify transactions within 2 minutes of time. While it is possible that a customer makes the exact same transaction with a merchant within 2 minutes, it is some what unlikely. The 2 minutes can be further reduced or increased based on real world data analysis and experience"
   ]
  },
  {
   "cell_type": "code",
   "execution_count": 18,
   "metadata": {},
   "outputs": [
    {
     "data": {
      "text/html": [
       "<div>\n",
       "<style scoped>\n",
       "    .dataframe tbody tr th:only-of-type {\n",
       "        vertical-align: middle;\n",
       "    }\n",
       "\n",
       "    .dataframe tbody tr th {\n",
       "        vertical-align: top;\n",
       "    }\n",
       "\n",
       "    .dataframe thead th {\n",
       "        text-align: right;\n",
       "    }\n",
       "</style>\n",
       "<table border=\"1\" class=\"dataframe\">\n",
       "  <thead>\n",
       "    <tr style=\"text-align: right;\">\n",
       "      <th></th>\n",
       "      <th>accountNumber</th>\n",
       "      <th>creditLimit</th>\n",
       "      <th>availableMoney</th>\n",
       "      <th>transactionDateTime</th>\n",
       "      <th>transactionAmount</th>\n",
       "      <th>merchantName</th>\n",
       "      <th>acqCountry</th>\n",
       "      <th>merchantCountryCode</th>\n",
       "      <th>posEntryMode</th>\n",
       "      <th>posConditionCode</th>\n",
       "      <th>...</th>\n",
       "      <th>cardCVV</th>\n",
       "      <th>enteredCVV</th>\n",
       "      <th>cardLast4Digits</th>\n",
       "      <th>transactionType</th>\n",
       "      <th>currentBalance</th>\n",
       "      <th>cardPresent</th>\n",
       "      <th>expirationDateKeyInMatch</th>\n",
       "      <th>isFraud</th>\n",
       "      <th>is_duplicated</th>\n",
       "      <th>is_multiswipe</th>\n",
       "    </tr>\n",
       "  </thead>\n",
       "  <tbody>\n",
       "    <tr>\n",
       "      <th>39</th>\n",
       "      <td>574788567</td>\n",
       "      <td>2500</td>\n",
       "      <td>2200.98</td>\n",
       "      <td>2016-05-24 01:38:03</td>\n",
       "      <td>215.13</td>\n",
       "      <td>Convenient Tire</td>\n",
       "      <td>US</td>\n",
       "      <td>US</td>\n",
       "      <td>09</td>\n",
       "      <td>01</td>\n",
       "      <td>...</td>\n",
       "      <td>206</td>\n",
       "      <td>206</td>\n",
       "      <td>8522</td>\n",
       "      <td>REVERSAL</td>\n",
       "      <td>299.02</td>\n",
       "      <td>True</td>\n",
       "      <td>False</td>\n",
       "      <td>False</td>\n",
       "      <td>True</td>\n",
       "      <td>True</td>\n",
       "    </tr>\n",
       "    <tr>\n",
       "      <th>73</th>\n",
       "      <td>574788567</td>\n",
       "      <td>2500</td>\n",
       "      <td>2432.72</td>\n",
       "      <td>2016-10-07 10:23:57</td>\n",
       "      <td>3.87</td>\n",
       "      <td>Eazy Repair</td>\n",
       "      <td>US</td>\n",
       "      <td>US</td>\n",
       "      <td>05</td>\n",
       "      <td>01</td>\n",
       "      <td>...</td>\n",
       "      <td>579</td>\n",
       "      <td>579</td>\n",
       "      <td>4219</td>\n",
       "      <td>REVERSAL</td>\n",
       "      <td>67.28</td>\n",
       "      <td>True</td>\n",
       "      <td>False</td>\n",
       "      <td>False</td>\n",
       "      <td>False</td>\n",
       "      <td>False</td>\n",
       "    </tr>\n",
       "    <tr>\n",
       "      <th>101</th>\n",
       "      <td>924729945</td>\n",
       "      <td>50000</td>\n",
       "      <td>49831.43</td>\n",
       "      <td>2016-10-19 14:01:45</td>\n",
       "      <td>168.57</td>\n",
       "      <td>discount.com</td>\n",
       "      <td>US</td>\n",
       "      <td>US</td>\n",
       "      <td>05</td>\n",
       "      <td>01</td>\n",
       "      <td>...</td>\n",
       "      <td>205</td>\n",
       "      <td>265</td>\n",
       "      <td>9459</td>\n",
       "      <td>REVERSAL</td>\n",
       "      <td>168.57</td>\n",
       "      <td>False</td>\n",
       "      <td>False</td>\n",
       "      <td>False</td>\n",
       "      <td>True</td>\n",
       "      <td>True</td>\n",
       "    </tr>\n",
       "    <tr>\n",
       "      <th>133</th>\n",
       "      <td>984504651</td>\n",
       "      <td>50000</td>\n",
       "      <td>46367.41</td>\n",
       "      <td>2016-01-16 09:53:15</td>\n",
       "      <td>450.74</td>\n",
       "      <td>Planet Fitness #849960</td>\n",
       "      <td>US</td>\n",
       "      <td>US</td>\n",
       "      <td>05</td>\n",
       "      <td>01</td>\n",
       "      <td>...</td>\n",
       "      <td>640</td>\n",
       "      <td>640</td>\n",
       "      <td>8332</td>\n",
       "      <td>REVERSAL</td>\n",
       "      <td>3632.59</td>\n",
       "      <td>False</td>\n",
       "      <td>False</td>\n",
       "      <td>False</td>\n",
       "      <td>True</td>\n",
       "      <td>True</td>\n",
       "    </tr>\n",
       "    <tr>\n",
       "      <th>156</th>\n",
       "      <td>984504651</td>\n",
       "      <td>50000</td>\n",
       "      <td>41909.30</td>\n",
       "      <td>2016-01-25 20:39:15</td>\n",
       "      <td>81.73</td>\n",
       "      <td>AMC #724446</td>\n",
       "      <td>US</td>\n",
       "      <td>US</td>\n",
       "      <td>09</td>\n",
       "      <td>01</td>\n",
       "      <td>...</td>\n",
       "      <td>640</td>\n",
       "      <td>640</td>\n",
       "      <td>8332</td>\n",
       "      <td>REVERSAL</td>\n",
       "      <td>8090.70</td>\n",
       "      <td>True</td>\n",
       "      <td>False</td>\n",
       "      <td>False</td>\n",
       "      <td>True</td>\n",
       "      <td>True</td>\n",
       "    </tr>\n",
       "    <tr>\n",
       "      <th>...</th>\n",
       "      <td>...</td>\n",
       "      <td>...</td>\n",
       "      <td>...</td>\n",
       "      <td>...</td>\n",
       "      <td>...</td>\n",
       "      <td>...</td>\n",
       "      <td>...</td>\n",
       "      <td>...</td>\n",
       "      <td>...</td>\n",
       "      <td>...</td>\n",
       "      <td>...</td>\n",
       "      <td>...</td>\n",
       "      <td>...</td>\n",
       "      <td>...</td>\n",
       "      <td>...</td>\n",
       "      <td>...</td>\n",
       "      <td>...</td>\n",
       "      <td>...</td>\n",
       "      <td>...</td>\n",
       "      <td>...</td>\n",
       "      <td>...</td>\n",
       "    </tr>\n",
       "    <tr>\n",
       "      <th>786106</th>\n",
       "      <td>899818521</td>\n",
       "      <td>2500</td>\n",
       "      <td>968.33</td>\n",
       "      <td>2016-09-29 02:04:32</td>\n",
       "      <td>10.05</td>\n",
       "      <td>cheapfast.com</td>\n",
       "      <td>US</td>\n",
       "      <td>US</td>\n",
       "      <td>02</td>\n",
       "      <td>99</td>\n",
       "      <td>...</td>\n",
       "      <td>421</td>\n",
       "      <td>421</td>\n",
       "      <td>3424</td>\n",
       "      <td>REVERSAL</td>\n",
       "      <td>1531.67</td>\n",
       "      <td>False</td>\n",
       "      <td>False</td>\n",
       "      <td>False</td>\n",
       "      <td>False</td>\n",
       "      <td>False</td>\n",
       "    </tr>\n",
       "    <tr>\n",
       "      <th>786120</th>\n",
       "      <td>638498773</td>\n",
       "      <td>10000</td>\n",
       "      <td>9798.21</td>\n",
       "      <td>2016-01-01 19:48:03</td>\n",
       "      <td>201.79</td>\n",
       "      <td>KFC #928167</td>\n",
       "      <td>US</td>\n",
       "      <td>US</td>\n",
       "      <td>05</td>\n",
       "      <td>01</td>\n",
       "      <td>...</td>\n",
       "      <td>175</td>\n",
       "      <td>175</td>\n",
       "      <td>321</td>\n",
       "      <td>REVERSAL</td>\n",
       "      <td>201.79</td>\n",
       "      <td>True</td>\n",
       "      <td>False</td>\n",
       "      <td>False</td>\n",
       "      <td>True</td>\n",
       "      <td>True</td>\n",
       "    </tr>\n",
       "    <tr>\n",
       "      <th>786219</th>\n",
       "      <td>638498773</td>\n",
       "      <td>10000</td>\n",
       "      <td>5331.33</td>\n",
       "      <td>2016-11-03 04:23:26</td>\n",
       "      <td>86.14</td>\n",
       "      <td>Dunkin' Donuts #396342</td>\n",
       "      <td>US</td>\n",
       "      <td>US</td>\n",
       "      <td>05</td>\n",
       "      <td>01</td>\n",
       "      <td>...</td>\n",
       "      <td>387</td>\n",
       "      <td>387</td>\n",
       "      <td>4635</td>\n",
       "      <td>REVERSAL</td>\n",
       "      <td>4668.67</td>\n",
       "      <td>True</td>\n",
       "      <td>False</td>\n",
       "      <td>False</td>\n",
       "      <td>True</td>\n",
       "      <td>True</td>\n",
       "    </tr>\n",
       "    <tr>\n",
       "      <th>786225</th>\n",
       "      <td>638498773</td>\n",
       "      <td>10000</td>\n",
       "      <td>4393.10</td>\n",
       "      <td>2016-11-06 22:54:25</td>\n",
       "      <td>49.39</td>\n",
       "      <td>Shake Shack #118502</td>\n",
       "      <td>US</td>\n",
       "      <td>US</td>\n",
       "      <td>05</td>\n",
       "      <td>01</td>\n",
       "      <td>...</td>\n",
       "      <td>387</td>\n",
       "      <td>387</td>\n",
       "      <td>4635</td>\n",
       "      <td>REVERSAL</td>\n",
       "      <td>5606.90</td>\n",
       "      <td>True</td>\n",
       "      <td>False</td>\n",
       "      <td>False</td>\n",
       "      <td>False</td>\n",
       "      <td>False</td>\n",
       "    </tr>\n",
       "    <tr>\n",
       "      <th>786301</th>\n",
       "      <td>732852505</td>\n",
       "      <td>50000</td>\n",
       "      <td>49860.23</td>\n",
       "      <td>2016-06-22 19:07:55</td>\n",
       "      <td>22.55</td>\n",
       "      <td>Uber</td>\n",
       "      <td>US</td>\n",
       "      <td>US</td>\n",
       "      <td>90</td>\n",
       "      <td>01</td>\n",
       "      <td>...</td>\n",
       "      <td>939</td>\n",
       "      <td>939</td>\n",
       "      <td>3388</td>\n",
       "      <td>REVERSAL</td>\n",
       "      <td>139.77</td>\n",
       "      <td>False</td>\n",
       "      <td>False</td>\n",
       "      <td>False</td>\n",
       "      <td>True</td>\n",
       "      <td>True</td>\n",
       "    </tr>\n",
       "  </tbody>\n",
       "</table>\n",
       "<p>20303 rows × 24 columns</p>\n",
       "</div>"
      ],
      "text/plain": [
       "        accountNumber  creditLimit  availableMoney transactionDateTime  \\\n",
       "39          574788567         2500         2200.98 2016-05-24 01:38:03   \n",
       "73          574788567         2500         2432.72 2016-10-07 10:23:57   \n",
       "101         924729945        50000        49831.43 2016-10-19 14:01:45   \n",
       "133         984504651        50000        46367.41 2016-01-16 09:53:15   \n",
       "156         984504651        50000        41909.30 2016-01-25 20:39:15   \n",
       "...               ...          ...             ...                 ...   \n",
       "786106      899818521         2500          968.33 2016-09-29 02:04:32   \n",
       "786120      638498773        10000         9798.21 2016-01-01 19:48:03   \n",
       "786219      638498773        10000         5331.33 2016-11-03 04:23:26   \n",
       "786225      638498773        10000         4393.10 2016-11-06 22:54:25   \n",
       "786301      732852505        50000        49860.23 2016-06-22 19:07:55   \n",
       "\n",
       "        transactionAmount            merchantName acqCountry  \\\n",
       "39                 215.13         Convenient Tire         US   \n",
       "73                   3.87             Eazy Repair         US   \n",
       "101                168.57            discount.com         US   \n",
       "133                450.74  Planet Fitness #849960         US   \n",
       "156                 81.73             AMC #724446         US   \n",
       "...                   ...                     ...        ...   \n",
       "786106              10.05           cheapfast.com         US   \n",
       "786120             201.79             KFC #928167         US   \n",
       "786219              86.14  Dunkin' Donuts #396342         US   \n",
       "786225              49.39     Shake Shack #118502         US   \n",
       "786301              22.55                    Uber         US   \n",
       "\n",
       "       merchantCountryCode posEntryMode posConditionCode  ... cardCVV  \\\n",
       "39                      US           09               01  ...     206   \n",
       "73                      US           05               01  ...     579   \n",
       "101                     US           05               01  ...     205   \n",
       "133                     US           05               01  ...     640   \n",
       "156                     US           09               01  ...     640   \n",
       "...                    ...          ...              ...  ...     ...   \n",
       "786106                  US           02               99  ...     421   \n",
       "786120                  US           05               01  ...     175   \n",
       "786219                  US           05               01  ...     387   \n",
       "786225                  US           05               01  ...     387   \n",
       "786301                  US           90               01  ...     939   \n",
       "\n",
       "       enteredCVV cardLast4Digits transactionType  currentBalance  \\\n",
       "39            206            8522        REVERSAL          299.02   \n",
       "73            579            4219        REVERSAL           67.28   \n",
       "101           265            9459        REVERSAL          168.57   \n",
       "133           640            8332        REVERSAL         3632.59   \n",
       "156           640            8332        REVERSAL         8090.70   \n",
       "...           ...             ...             ...             ...   \n",
       "786106        421            3424        REVERSAL         1531.67   \n",
       "786120        175             321        REVERSAL          201.79   \n",
       "786219        387            4635        REVERSAL         4668.67   \n",
       "786225        387            4635        REVERSAL         5606.90   \n",
       "786301        939            3388        REVERSAL          139.77   \n",
       "\n",
       "        cardPresent  expirationDateKeyInMatch isFraud  is_duplicated  \\\n",
       "39             True                     False   False           True   \n",
       "73             True                     False   False          False   \n",
       "101           False                     False   False           True   \n",
       "133           False                     False   False           True   \n",
       "156            True                     False   False           True   \n",
       "...             ...                       ...     ...            ...   \n",
       "786106        False                     False   False          False   \n",
       "786120         True                     False   False           True   \n",
       "786219         True                     False   False           True   \n",
       "786225         True                     False   False          False   \n",
       "786301        False                     False   False           True   \n",
       "\n",
       "        is_multiswipe  \n",
       "39               True  \n",
       "73              False  \n",
       "101              True  \n",
       "133              True  \n",
       "156              True  \n",
       "...               ...  \n",
       "786106          False  \n",
       "786120           True  \n",
       "786219           True  \n",
       "786225          False  \n",
       "786301           True  \n",
       "\n",
       "[20303 rows x 24 columns]"
      ]
     },
     "execution_count": 18,
     "metadata": {},
     "output_type": "execute_result"
    }
   ],
   "source": [
    "## To identify reverse transactions in the data set\n",
    "# The data set already has a field 'transactionType' that identifies reversals, so using this we can filter the transactions\n",
    "transaction_data[transaction_data['transactionType'] == \"REVERSAL\"]"
   ]
  },
  {
   "cell_type": "markdown",
   "metadata": {},
   "source": [
    "**Observations:**\n",
    "\n",
    "- We can identify the reversed transactions in the data using transactionType column. However I do not know if the data set contains actual transactions that correspond to these reversed.\n",
    "\n",
    "- Assuming, the data set contains some or all corresponding original transactions - the below code is used to find these transactions."
   ]
  },
  {
   "cell_type": "code",
   "execution_count": 19,
   "metadata": {},
   "outputs": [
    {
     "name": "stdout",
     "output_type": "stream",
     "text": [
      "no of reversed:  20303 \n",
      " no of non-reversed:  748765 \n",
      " no of common transactions:  19402\n"
     ]
    }
   ],
   "source": [
    "def check_reverse(df1, df2):\n",
    "    \"\"\"Find transactions which are common between the two dataframes (reversed and non-reversed)\"\"\"\n",
    "\n",
    "    rev = pd.merge(df1, df2, how='inner')\n",
    "    print( \"no of reversed: \", len(df1), \"\\n\", \"no of non-reversed: \", len(df2), \"\\n\", \"no of common transactions: \", len(rev))\n",
    "    return rev\n",
    "\n",
    "reverse = check_reverse(transaction_data[transaction_data['transactionType'] == \"REVERSAL\"][['accountNumber','transactionAmount','merchantName','cardLast4Digits','merchantCategoryCode','posEntryMode']] ,\\\n",
    "                        transaction_data[(transaction_data['transactionType'] != \"REVERSAL\") & (transaction_data['is_multiswipe'] == False)][['accountNumber','transactionAmount','merchantName','cardLast4Digits','merchantCategoryCode','posEntryMode']])\n"
   ]
  },
  {
   "cell_type": "code",
   "execution_count": 20,
   "metadata": {},
   "outputs": [
    {
     "name": "stdout",
     "output_type": "stream",
     "text": [
      "Reversed_Transactions #  Total_Amount\n",
      "19402 \t 2692947.22\n"
     ]
    }
   ],
   "source": [
    "\n",
    "print(\"Reversed_Transactions # \",\"Total_Amount\")\n",
    "print(len(reverse),\"\\t\", round(sum(reverse['transactionAmount']),2))\n"
   ]
  },
  {
   "cell_type": "markdown",
   "metadata": {},
   "source": [
    "**Assumptions:** \n",
    "\n",
    "- Original of the reversed transactions can be identified using the following columns: 'accountNumber','transactionAmount','merchantName','cardLast4Digits','merchantCategoryCode','posEntryMode'. These columns will be the same and the transaction type should be other than reversal.\n",
    " \n",
    "**Observations:**\n",
    "- No of reversals identified in the data set: 20303. Transaction amount corresponding to these: 2,692,947.22\n",
    "- No of corresponding original transactions identified in the data set: 19402\n",
    "- Based on the assumptions, there are lower number of original transactions than reversals."
   ]
  },
  {
   "cell_type": "code",
   "execution_count": 21,
   "metadata": {},
   "outputs": [
    {
     "data": {
      "text/plain": [
       "Text(0.5, 1.0, 'All transactions')"
      ]
     },
     "execution_count": 21,
     "metadata": {},
     "output_type": "execute_result"
    },
    {
     "data": {
      "image/png": "[encoded data removed]",
      "text/plain": [
       "<Figure size 720x432 with 2 Axes>"
      ]
     },
     "metadata": {
      "needs_background": "light"
     },
     "output_type": "display_data"
    }
   ],
   "source": [
    "# Plot to see if the reversed transactions are predominant in any merchant category\n",
    "\n",
    "fig, axs = plt.subplots(figsize=(10,6), ncols=2)\n",
    "\n",
    "rev = sns.countplot(reverse.merchantCategoryCode, ax = axs[0])\n",
    "rev.set_xticklabels(rev.get_xticklabels(), rotation=45,horizontalalignment='right')\n",
    "axs[0].set_title('Reversals')\n",
    "\n",
    "\n",
    "full = sns.countplot(transaction_data.merchantCategoryCode, ax = axs[1])\n",
    "full.set_xticklabels(full.get_xticklabels(), rotation=45, horizontalalignment='right')\n",
    "axs[1].set_title('All transactions')"
   ]
  },
  {
   "cell_type": "markdown",
   "metadata": {},
   "source": [
    "**Interesting observations:**\n",
    "1. online gifts category has higher rate of reversals\n",
    "2. some categories like fuel, mobileapps, auto, food delivery, gym, cable/phone have no reversals"
   ]
  },
  {
   "cell_type": "markdown",
   "metadata": {},
   "source": [
    "**Question 4: Model**\n",
    "\n",
    "Fraud is a problem for any bank. Fraud can take many forms, whether it is someone stealing a single credit card, to large batches of stolen credit card numbers being used on the web, or even a mass compromise of credit card numbers stolen from a merchant via tools like credit card skimming devices.\n",
    "\n",
    "Each of the transactions in the dataset has a field called isFraud. Please build a predictive model to determine whether a given transaction will be fraudulent or not. Use as much of the data as you like (or all of it).\n",
    "Provide an estimate of performance using an appropriate sample, and show your work.\n",
    "Please explain your methodology (modeling algorithm/method used and why, what features/data you found useful, what questions you have, and what you would do next with more time)"
   ]
  },
  {
   "cell_type": "code",
   "execution_count": 22,
   "metadata": {},
   "outputs": [
    {
     "data": {
      "text/plain": [
       "730046"
      ]
     },
     "execution_count": 22,
     "metadata": {},
     "output_type": "execute_result"
    }
   ],
   "source": [
    "# In the data set to build the fraud model I'm assuming the address verification and reversal transaction types...\n",
    "# are not useful as the objective is to find fraud purchases\n",
    "# In addition also removing the multiswipe transactions as earlier we found these are duplicate\n",
    "\n",
    "model_data = transaction_data[transaction_data['transactionType'] == \"PURCHASE\"]\n",
    "model_data = model_data[~model_data['is_multiswipe']]\n",
    "\n",
    "len(model_data)"
   ]
  },
  {
   "cell_type": "code",
   "execution_count": 23,
   "metadata": {},
   "outputs": [
    {
     "data": {
      "text/plain": [
       "Index(['accountNumber', 'creditLimit', 'availableMoney', 'transactionDateTime',\n",
       "       'transactionAmount', 'merchantName', 'acqCountry',\n",
       "       'merchantCountryCode', 'posEntryMode', 'posConditionCode',\n",
       "       'merchantCategoryCode', 'currentExpDate', 'accountOpenDate',\n",
       "       'dateOfLastAddressChange', 'cardCVV', 'enteredCVV', 'cardLast4Digits',\n",
       "       'transactionType', 'currentBalance', 'cardPresent',\n",
       "       'expirationDateKeyInMatch', 'isFraud', 'is_duplicated',\n",
       "       'is_multiswipe'],\n",
       "      dtype='object')"
      ]
     },
     "execution_count": 23,
     "metadata": {},
     "output_type": "execute_result"
    }
   ],
   "source": [
    "model_data.columns"
   ]
  },
  {
   "cell_type": "markdown",
   "metadata": {},
   "source": [
    "**Examining features that can be useful to predit fraud:**\n",
    "\n",
    "1. Of the available fields 'accountNumber', 'cardLast4Digits' clearly are not useful features\n",
    "2. 'creditLimit', 'availableMoney', 'transactionAmount', 'currentBalance' are numeric features that can provide useful information\n",
    "3. 'merchantName', 'acqCountry', 'merchantCountryCode', 'posEntryMode', 'posConditionCode', 'merchantCategoryCode', 'cardPresent', 'expirationDateKeyInMatch' are labels which can also provide useful information but need to be encoded to use in the model\n",
    "4. 'currentExpDate', 'accountOpenDate', 'dateOfLastAddressChange' could be useful in combination with 'transactionDateTime'. Difference of these dates with transaction date can be used as an input feature\n",
    "5. We can also extract time of the day from 'transactionDateTime', which could be useful. Expect to see more fraud transactions in unusual times.\n",
    "6. 'cardCVV', 'enteredCVV' - can be used by checking if there is a match between them or not. Expect to have more mismatches in case of fraud\n",
    "7. 'acqCountry', 'merchantCountryCode' - a feature can be constructed to check if they match. Expect to have more mismatches in case of fraud\n",
    "8. As we only focus on single 'transactionType' - this feature can be dropped\n",
    "9. 'isFraud' is the categorical variable to predict\n"
   ]
  },
  {
   "cell_type": "code",
   "execution_count": 24,
   "metadata": {},
   "outputs": [],
   "source": [
    "### Feature engineering -  as discussed above ###\n",
    "\n",
    "model_data['currentExpDate_diff'] = (pd.to_datetime(model_data['currentExpDate']) - model_data['transactionDateTime'])/np.timedelta64(1, 'D')\n",
    "model_data['accountOpenDate_diff'] = (pd.to_datetime(model_data['accountOpenDate']) - model_data['transactionDateTime'])/np.timedelta64(1, 'D')\n",
    "model_data['dateOfLastAddressChange_diff'] = (pd.to_datetime(model_data['dateOfLastAddressChange']) - model_data['transactionDateTime'])/np.timedelta64(1, 'D')\n",
    "model_data['transactionTimeinDay'] = (model_data['transactionDateTime'] - model_data['transactionDateTime'].dt.normalize())//np.timedelta64(1, 'h')\n",
    "model_data['Country_match'] = (model_data['acqCountry'] == model_data['merchantCountryCode'])\n",
    "model_data['CVVmatch'] = (model_data['cardCVV'] == model_data['enteredCVV'])\n",
    "\n",
    "# Drop the unwanted columns\n",
    "model_data = model_data.drop(['accountNumber', 'cardLast4Digits', 'is_duplicated', 'is_multiswipe', 'transactionType', 'currentExpDate',\\\n",
    "                 'accountOpenDate', 'dateOfLastAddressChange','transactionDateTime', 'cardCVV', 'enteredCVV', ], axis = 1)"
   ]
  },
  {
   "cell_type": "code",
   "execution_count": 25,
   "metadata": {},
   "outputs": [
    {
     "data": {
      "text/plain": [
       "<matplotlib.axes._subplots.AxesSubplot at 0x1b8090eb548>"
      ]
     },
     "execution_count": 25,
     "metadata": {},
     "output_type": "execute_result"
    },
    {
     "data": {
      "image/png": "[encoded data removed]",
      "text/plain": [
       "<Figure size 720x576 with 1 Axes>"
      ]
     },
     "metadata": {
      "needs_background": "light"
     },
     "output_type": "display_data"
    }
   ],
   "source": [
    "#Distribution of transactions by time\n",
    "model_data['transactionTimeinDay']\n",
    "\n",
    "plt.figure(figsize=(10,8))\n",
    "plt.title('Distribution of Time Feature')\n",
    "sns.distplot(model_data['transactionTimeinDay'])\n"
   ]
  },
  {
   "cell_type": "markdown",
   "metadata": {},
   "source": [
    "**Observations:**\n",
    "\n",
    "- The dsitribution plot implies the transactions are quite evenly distributed in time.\n",
    "- This is not expected in real world, and could be a sign that the dataset is manipulated"
   ]
  },
  {
   "cell_type": "code",
   "execution_count": 26,
   "metadata": {},
   "outputs": [
    {
     "name": "stdout",
     "output_type": "stream",
     "text": [
      "Number transactions in train dataset:  511032\n",
      "Number transactions in test dataset:  219014\n",
      "Total number of transactions:  730046\n",
      "Fraction of frauds in the dataset: 0.01615\n"
     ]
    }
   ],
   "source": [
    "# Building a model on the whole dataset\n",
    "\n",
    "from sklearn.model_selection import train_test_split\n",
    "\n",
    "y = model_data['isFraud']\n",
    "X = model_data\n",
    "\n",
    "X_train, X_test, y_train, y_test = train_test_split(X,y,test_size = 0.3, random_state = 0)\n",
    "\n",
    "print(\"Number transactions in train dataset: \", len(X_train))\n",
    "print(\"Number transactions in test dataset: \", len(X_test))\n",
    "print(\"Total number of transactions: \", len(X_train)+len(X_test))\n",
    "\n",
    "print(\"Fraction of frauds in the dataset: {:.5f}\".format(np.sum(y)/len(y)))\n"
   ]
  },
  {
   "cell_type": "markdown",
   "metadata": {},
   "source": [
    "**Observations:**\n",
    "\n",
    "From above we can observe that the Fraction of frauds in the dataset is only 0.01615 (~1.6%). \n",
    "I tried to fit a model using the above dataset but the model is very weak in predicting fraud.\n",
    "\n",
    "A balanced class distribution could give a more reasonable model. I created a balanced class distribution below by selecting equal number of fraud and non-fraud transactions for the test data set."
   ]
  },
  {
   "cell_type": "code",
   "execution_count": 27,
   "metadata": {},
   "outputs": [
    {
     "name": "stdout",
     "output_type": "stream",
     "text": [
      "8335\n"
     ]
    }
   ],
   "source": [
    "non_fraud = X_train[X_train['isFraud'] == False]\n",
    "fraud = X_train[X_train['isFraud'] == True]\n",
    "print(len(fraud))\n",
    "sample = non_fraud.sample(len(fraud))"
   ]
  },
  {
   "cell_type": "code",
   "execution_count": 28,
   "metadata": {},
   "outputs": [
    {
     "name": "stdout",
     "output_type": "stream",
     "text": [
      "16670\n"
     ]
    }
   ],
   "source": [
    "X_train_bal = pd.concat([sample.reset_index(drop=True), fraud.reset_index(drop=True)])\n",
    "\n",
    "##Shuffling the data\n",
    "X_train_bal = X_train_bal.sample(frac=1).reset_index(drop=True)\n",
    "\n",
    "print(len(X_train_bal))\n",
    "\n",
    "y_train_bal = X_train_bal['isFraud']\n"
   ]
  },
  {
   "cell_type": "code",
   "execution_count": 29,
   "metadata": {},
   "outputs": [
    {
     "name": "stdout",
     "output_type": "stream",
     "text": [
      "                              creditLimit  availableMoney  transactionAmount  \\\n",
      "creditLimit                      1.000000        0.824610           0.004011   \n",
      "availableMoney                   0.824610        1.000000           0.001580   \n",
      "transactionAmount                0.004011        0.001580           1.000000   \n",
      "currentBalance                   0.666608        0.128013           0.004950   \n",
      "cardPresent                     -0.029159       -0.018929          -0.104263   \n",
      "expirationDateKeyInMatch         0.003645       -0.000718          -0.010157   \n",
      "isFraud                          0.024471       -0.001216           0.238141   \n",
      "currentExpDate_diff              0.006903        0.013667           0.012700   \n",
      "accountOpenDate_diff             0.087800        0.035610           0.005995   \n",
      "dateOfLastAddressChange_diff     0.073520       -0.029093           0.032073   \n",
      "transactionTimeinDay             0.005853        0.002393           0.002648   \n",
      "Country_match                    0.008385        0.005951          -0.004343   \n",
      "CVVmatch                        -0.002937       -0.000210          -0.003885   \n",
      "\n",
      "                              currentBalance  cardPresent  \\\n",
      "creditLimit                         0.666608    -0.029159   \n",
      "availableMoney                      0.128013    -0.018929   \n",
      "transactionAmount                   0.004950    -0.104263   \n",
      "currentBalance                      1.000000    -0.026178   \n",
      "cardPresent                        -0.026178     1.000000   \n",
      "expirationDateKeyInMatch            0.007336     0.041472   \n",
      "isFraud                             0.044505    -0.191456   \n",
      "currentExpDate_diff                -0.005905     0.005130   \n",
      "accountOpenDate_diff                0.107007    -0.006508   \n",
      "dateOfLastAddressChange_diff        0.167228    -0.004239   \n",
      "transactionTimeinDay                0.007108     0.003323   \n",
      "Country_match                       0.006859    -0.006556   \n",
      "CVVmatch                           -0.004872     0.022157   \n",
      "\n",
      "                              expirationDateKeyInMatch   isFraud  \\\n",
      "creditLimit                                   0.003645  0.024471   \n",
      "availableMoney                               -0.000718 -0.001216   \n",
      "transactionAmount                            -0.010157  0.238141   \n",
      "currentBalance                                0.007336  0.044505   \n",
      "cardPresent                                   0.041472 -0.191456   \n",
      "expirationDateKeyInMatch                      1.000000 -0.001879   \n",
      "isFraud                                      -0.001879  1.000000   \n",
      "currentExpDate_diff                          -0.004445  0.007537   \n",
      "accountOpenDate_diff                         -0.010726  0.016359   \n",
      "dateOfLastAddressChange_diff                 -0.006915  0.027414   \n",
      "transactionTimeinDay                         -0.004298  0.001507   \n",
      "Country_match                                -0.023450 -0.000823   \n",
      "CVVmatch                                      0.003574 -0.045612   \n",
      "\n",
      "                              currentExpDate_diff  accountOpenDate_diff  \\\n",
      "creditLimit                              0.006903              0.087800   \n",
      "availableMoney                           0.013667              0.035610   \n",
      "transactionAmount                        0.012700              0.005995   \n",
      "currentBalance                          -0.005905              0.107007   \n",
      "cardPresent                              0.005130             -0.006508   \n",
      "expirationDateKeyInMatch                -0.004445             -0.010726   \n",
      "isFraud                                  0.007537              0.016359   \n",
      "currentExpDate_diff                      1.000000             -0.000199   \n",
      "accountOpenDate_diff                    -0.000199              1.000000   \n",
      "dateOfLastAddressChange_diff            -0.015171              0.613372   \n",
      "transactionTimeinDay                     0.011374             -0.003734   \n",
      "Country_match                           -0.005681              0.001821   \n",
      "CVVmatch                                 0.001111              0.007315   \n",
      "\n",
      "                              dateOfLastAddressChange_diff  \\\n",
      "creditLimit                                       0.073520   \n",
      "availableMoney                                   -0.029093   \n",
      "transactionAmount                                 0.032073   \n",
      "currentBalance                                    0.167228   \n",
      "cardPresent                                      -0.004239   \n",
      "expirationDateKeyInMatch                         -0.006915   \n",
      "isFraud                                           0.027414   \n",
      "currentExpDate_diff                              -0.015171   \n",
      "accountOpenDate_diff                              0.613372   \n",
      "dateOfLastAddressChange_diff                      1.000000   \n",
      "transactionTimeinDay                              0.006305   \n",
      "Country_match                                    -0.000221   \n",
      "CVVmatch                                          0.002309   \n",
      "\n",
      "                              transactionTimeinDay  Country_match  CVVmatch  \n",
      "creditLimit                               0.005853       0.008385 -0.002937  \n",
      "availableMoney                            0.002393       0.005951 -0.000210  \n",
      "transactionAmount                         0.002648      -0.004343 -0.003885  \n",
      "currentBalance                            0.007108       0.006859 -0.004872  \n",
      "cardPresent                               0.003323      -0.006556  0.022157  \n",
      "expirationDateKeyInMatch                 -0.004298      -0.023450  0.003574  \n",
      "isFraud                                   0.001507      -0.000823 -0.045612  \n",
      "currentExpDate_diff                       0.011374      -0.005681  0.001111  \n",
      "accountOpenDate_diff                     -0.003734       0.001821  0.007315  \n",
      "dateOfLastAddressChange_diff              0.006305      -0.000221  0.002309  \n",
      "transactionTimeinDay                      1.000000       0.009364 -0.013424  \n",
      "Country_match                             0.009364       1.000000 -0.000744  \n",
      "CVVmatch                                 -0.013424      -0.000744  1.000000  \n"
     ]
    },
    {
     "data": {
      "text/plain": [
       "<matplotlib.axes._subplots.AxesSubplot at 0x1b809195c48>"
      ]
     },
     "execution_count": 29,
     "metadata": {},
     "output_type": "execute_result"
    },
    {
     "data": {
      "image/png": "[encoded data removed]",
      "text/plain": [
       "<Figure size 432x288 with 2 Axes>"
      ]
     },
     "metadata": {
      "needs_background": "light"
     },
     "output_type": "display_data"
    }
   ],
   "source": [
    "print(X_train_bal.corr())\n",
    "sns.heatmap(X_train_bal.corr())"
   ]
  },
  {
   "cell_type": "markdown",
   "metadata": {},
   "source": [
    "Number of fraud transactions in the model = 8335. \n",
    "\n",
    "Total size of the balanced training set = 16670"
   ]
  },
  {
   "cell_type": "code",
   "execution_count": 30,
   "metadata": {},
   "outputs": [
    {
     "name": "stdout",
     "output_type": "stream",
     "text": [
      "                              creditLimit  availableMoney  transactionAmount  \\\n",
      "creditLimit                      1.000000        0.834627           0.005007   \n",
      "availableMoney                   0.834627        1.000000          -0.010816   \n",
      "transactionAmount                0.005007       -0.010816           1.000000   \n",
      "currentBalance                   0.653571        0.128595           0.023877   \n",
      "cardPresent                     -0.005285        0.001229           0.011490   \n",
      "expirationDateKeyInMatch         0.002148        0.003897           0.000676   \n",
      "isFraud                          0.003160       -0.001365           0.074314   \n",
      "currentExpDate_diff              0.001246        0.004805           0.001223   \n",
      "accountOpenDate_diff             0.061583        0.021312           0.006906   \n",
      "dateOfLastAddressChange_diff     0.062974       -0.041121           0.029154   \n",
      "transactionTimeinDay            -0.001783       -0.003314           0.000735   \n",
      "Country_match                   -0.000831       -0.001110          -0.000049   \n",
      "CVVmatch                         0.001237       -0.000518           0.000922   \n",
      "\n",
      "                              currentBalance  cardPresent  \\\n",
      "creditLimit                         0.653571    -0.005285   \n",
      "availableMoney                      0.128595     0.001229   \n",
      "transactionAmount                   0.023877     0.011490   \n",
      "currentBalance                      1.000000    -0.011203   \n",
      "cardPresent                        -0.011203     1.000000   \n",
      "expirationDateKeyInMatch           -0.001487     0.040180   \n",
      "isFraud                             0.007564    -0.046691   \n",
      "currentExpDate_diff                -0.004359    -0.000495   \n",
      "accountOpenDate_diff                0.081592    -0.021665   \n",
      "dateOfLastAddressChange_diff        0.169883    -0.013389   \n",
      "transactionTimeinDay                0.001344     0.001274   \n",
      "Country_match                       0.000029     0.000118   \n",
      "CVVmatch                            0.002938     0.002932   \n",
      "\n",
      "                              expirationDateKeyInMatch   isFraud  \\\n",
      "creditLimit                                   0.002148  0.003160   \n",
      "availableMoney                                0.003897 -0.001365   \n",
      "transactionAmount                             0.000676  0.074314   \n",
      "currentBalance                               -0.001487  0.007564   \n",
      "cardPresent                                   0.040180 -0.046691   \n",
      "expirationDateKeyInMatch                      1.000000 -0.001284   \n",
      "isFraud                                      -0.001284  1.000000   \n",
      "currentExpDate_diff                           0.000821  0.001717   \n",
      "accountOpenDate_diff                         -0.001244  0.005761   \n",
      "dateOfLastAddressChange_diff                 -0.000685  0.005789   \n",
      "transactionTimeinDay                         -0.001135 -0.000655   \n",
      "Country_match                                -0.001533 -0.000968   \n",
      "CVVmatch                                      0.000014 -0.010205   \n",
      "\n",
      "                              currentExpDate_diff  accountOpenDate_diff  \\\n",
      "creditLimit                              0.001246              0.061583   \n",
      "availableMoney                           0.004805              0.021312   \n",
      "transactionAmount                        0.001223              0.006906   \n",
      "currentBalance                          -0.004359              0.081592   \n",
      "cardPresent                             -0.000495             -0.021665   \n",
      "expirationDateKeyInMatch                 0.000821             -0.001244   \n",
      "isFraud                                  0.001717              0.005761   \n",
      "currentExpDate_diff                      1.000000              0.012542   \n",
      "accountOpenDate_diff                     0.012542              1.000000   \n",
      "dateOfLastAddressChange_diff            -0.004609              0.585389   \n",
      "transactionTimeinDay                    -0.001650             -0.000744   \n",
      "Country_match                           -0.000925              0.000827   \n",
      "CVVmatch                                 0.002047             -0.000108   \n",
      "\n",
      "                              dateOfLastAddressChange_diff  \\\n",
      "creditLimit                                       0.062974   \n",
      "availableMoney                                   -0.041121   \n",
      "transactionAmount                                 0.029154   \n",
      "currentBalance                                    0.169883   \n",
      "cardPresent                                      -0.013389   \n",
      "expirationDateKeyInMatch                         -0.000685   \n",
      "isFraud                                           0.005789   \n",
      "currentExpDate_diff                              -0.004609   \n",
      "accountOpenDate_diff                              0.585389   \n",
      "dateOfLastAddressChange_diff                      1.000000   \n",
      "transactionTimeinDay                             -0.000497   \n",
      "Country_match                                    -0.001766   \n",
      "CVVmatch                                          0.001058   \n",
      "\n",
      "                              transactionTimeinDay  Country_match  CVVmatch  \n",
      "creditLimit                              -0.001783      -0.000831  0.001237  \n",
      "availableMoney                           -0.003314      -0.001110 -0.000518  \n",
      "transactionAmount                         0.000735      -0.000049  0.000922  \n",
      "currentBalance                            0.001344       0.000029  0.002938  \n",
      "cardPresent                               0.001274       0.000118  0.002932  \n",
      "expirationDateKeyInMatch                 -0.001135      -0.001533  0.000014  \n",
      "isFraud                                  -0.000655      -0.000968 -0.010205  \n",
      "currentExpDate_diff                      -0.001650      -0.000925  0.002047  \n",
      "accountOpenDate_diff                     -0.000744       0.000827 -0.000108  \n",
      "dateOfLastAddressChange_diff             -0.000497      -0.001766  0.001058  \n",
      "transactionTimeinDay                      1.000000      -0.000059  0.000840  \n",
      "Country_match                            -0.000059       1.000000 -0.000072  \n",
      "CVVmatch                                  0.000840      -0.000072  1.000000  \n"
     ]
    },
    {
     "data": {
      "text/plain": [
       "<matplotlib.axes._subplots.AxesSubplot at 0x1b8091eab88>"
      ]
     },
     "execution_count": 30,
     "metadata": {},
     "output_type": "execute_result"
    },
    {
     "data": {
      "image/png": "[encoded data removed]",
      "text/plain": [
       "<Figure size 432x288 with 2 Axes>"
      ]
     },
     "metadata": {
      "needs_background": "light"
     },
     "output_type": "display_data"
    }
   ],
   "source": [
    "#plotting the correlations between the variables\n",
    "\n",
    "print(model_data.corr())\n",
    "sns.heatmap(model_data.corr())"
   ]
  },
  {
   "cell_type": "markdown",
   "metadata": {},
   "source": [
    "**Observations:**\n",
    "\n",
    "From the correlations (both of the whole data set and balanced training set) I observed that features with some correlation with 'isfraud' are 'transactionAmount', 'cardPresent' and 'CVVmatch'. The balanced data set had some what higher correlation. The remaining features are observed to have very low correlation.\n",
    "Given the low correlations, expect to see a weak model using the features as is.\n"
   ]
  },
  {
   "cell_type": "code",
   "execution_count": 31,
   "metadata": {},
   "outputs": [],
   "source": [
    "# dropping the prediction variable from X\n",
    "X_train_bal = X_train_bal.drop('isFraud', axis =1)\n",
    "X_test = X_test.drop('isFraud', axis =1)\n",
    "\n",
    "########## Label Encoding for Training and Test Data #########\n",
    "from sklearn.preprocessing import LabelEncoder\n",
    "\n",
    "for i in X_train_bal.columns:\n",
    "    if X_train_bal[i].dtype=='object' :\n",
    "        LE = LabelEncoder()\n",
    "        LE.fit(list(X_train_bal[i].values) )\n",
    "        X_train_bal.loc[:,i] = LE.transform(list(X_train_bal[i].values))\n",
    "\n",
    "for i in X_test.columns:\n",
    "    if X_test[i].dtype=='object' :\n",
    "        LE = LabelEncoder()\n",
    "        LE.fit(list(X_test[i].values) )\n",
    "        X_test.loc[:,i] = LE.transform(list(X_test[i].values))\n",
    "\n",
    "X_train_bal = X_train_bal.fillna(-999)\n",
    "X_test = X_test.fillna(-999)\n"
   ]
  },
  {
   "cell_type": "markdown",
   "metadata": {},
   "source": [
    "**Notes:**\n",
    "\n",
    "- In Fraud models, the predicted variable is binary (is fraud or not), therefore we need to use binary classifiers.\n",
    "- Logistic regression is the classic model of choice in such cases. However, ensemble approaches such as Random forest and boosting techniques offer a better performance at the risk of overfitting. \n",
    "\n",
    "- If we have enough data overfitting can somewhat be alleviated using a separate validation data set. Due to the time constraint, I did not use a separate validation data set. A separate test dataset is used to assess performance."
   ]
  },
  {
   "cell_type": "code",
   "execution_count": 32,
   "metadata": {},
   "outputs": [
    {
     "name": "stderr",
     "output_type": "stream",
     "text": [
      "[Parallel(n_jobs=-1)]: Using backend ThreadingBackend with 6 concurrent workers.\n",
      "[Parallel(n_jobs=-1)]: Done  30 out of  30 | elapsed:    0.1s finished\n"
     ]
    }
   ],
   "source": [
    "from sklearn.linear_model import LogisticRegression\n",
    "from sklearn.ensemble import RandomForestClassifier\n",
    "from sklearn.ensemble import GradientBoostingClassifier as GB\n",
    "\n",
    "############ Fitting Logistic regression Model #########\n",
    "LR_clf = LogisticRegression(random_state=0, max_iter= 10000).fit(X_train_bal, y_train_bal)\n",
    "\n",
    "############ Fitting Random Forest Model #########\n",
    "RF_clf = RandomForestClassifier(max_depth=10, random_state=0, n_estimators=30, max_features=0.3, min_samples_leaf=20, n_jobs=-1, verbose=1)\n",
    "RF_clf.fit(X_train_bal, y_train_bal)\n",
    "\n",
    "############ Fitting Gradient Boosting Classifier #########\n",
    "\n",
    "gb_clf = GB().fit(X_train_bal, y_train_bal)\n"
   ]
  },
  {
   "cell_type": "code",
   "execution_count": 34,
   "metadata": {},
   "outputs": [
    {
     "name": "stderr",
     "output_type": "stream",
     "text": [
      "[Parallel(n_jobs=6)]: Using backend ThreadingBackend with 6 concurrent workers.\n",
      "[Parallel(n_jobs=6)]: Done  30 out of  30 | elapsed:    0.1s finished\n"
     ]
    },
    {
     "name": "stdout",
     "output_type": "stream",
     "text": [
      "Accuracy: 0.7292867122649693\n",
      "Confusion matrix: [[157425  58136]\n",
      " [  1154   2299]]\n",
      "F1 score: 0.07196969696969696\n"
     ]
    },
    {
     "data": {
      "text/plain": [
       "<matplotlib.legend.Legend at 0x1b80b4365c8>"
      ]
     },
     "execution_count": 34,
     "metadata": {},
     "output_type": "execute_result"
    },
    {
     "data": {
      "image/png": "[encoded data removed]",
      "text/plain": [
       "<Figure size 432x288 with 1 Axes>"
      ]
     },
     "metadata": {
      "needs_background": "light"
     },
     "output_type": "display_data"
    }
   ],
   "source": [
    "######## Predicting with Random Forest model on test dataset ##########\n",
    "\n",
    "from sklearn.metrics import accuracy_score\n",
    "\n",
    "RF_predicted = RF_clf.predict(X_test)\n",
    "print (\"Accuracy:\", accuracy_score(y_test, RF_predicted))\n",
    "\n",
    "from sklearn.metrics import confusion_matrix\n",
    "print(\"Confusion matrix:\", confusion_matrix(y_test, RF_predicted))\n",
    "\n",
    "from sklearn.metrics import f1_score\n",
    "print (\"F1 score:\", f1_score(y_test, RF_predicted))\n",
    "\n",
    "from sklearn.metrics import roc_curve\n",
    "from sklearn.metrics import auc\n",
    "\n",
    "# Compute fpr, tpr, thresholds and roc auc\n",
    "fpr, tpr, thresholds = roc_curve(y_test, RF_predicted)\n",
    "roc_auc = auc(y_test, RF_predicted)\n",
    "\n",
    "# Plot ROC curve\n",
    "plt.plot(fpr, tpr, label='ROC curve (area = %0.3f)' % roc_auc)\n",
    "plt.plot([0, 1], [0, 1], 'k--')  # random predictions curve\n",
    "plt.xlim([0.0, 1.0])\n",
    "plt.ylim([0.0, 1.0])\n",
    "plt.xlabel('False Positive Rate or (1 - Specifity)')\n",
    "plt.ylabel('True Positive Rate or (Sensitivity)')\n",
    "plt.title('Receiver Operating Characteristic')\n",
    "plt.legend(loc=\"lower right\")\n"
   ]
  },
  {
   "cell_type": "code",
   "execution_count": 35,
   "metadata": {},
   "outputs": [
    {
     "name": "stdout",
     "output_type": "stream",
     "text": [
      "Accuracy: 0.6822668870483165\n",
      "Confusion matrix: [[147408  68153]\n",
      " [  1435   2018]]\n",
      "F1 score: 0.05481908073454308\n"
     ]
    },
    {
     "data": {
      "text/plain": [
       "<matplotlib.legend.Legend at 0x1b80b4570c8>"
      ]
     },
     "execution_count": 35,
     "metadata": {},
     "output_type": "execute_result"
    },
    {
     "data": {
      "image/png": "[encoded data removed]",
      "text/plain": [
       "<Figure size 432x288 with 1 Axes>"
      ]
     },
     "metadata": {
      "needs_background": "light"
     },
     "output_type": "display_data"
    }
   ],
   "source": [
    "######## Predicting with Logistic regression model on test dataset ##########\n",
    "\n",
    "LR_predicted = LR_clf.predict(X_test)\n",
    "print (\"Accuracy:\", accuracy_score(y_test, LR_predicted))\n",
    "print(\"Confusion matrix:\", confusion_matrix(y_test, LR_predicted))\n",
    "print(\"F1 score:\", f1_score(y_test, LR_predicted))\n",
    "\n",
    "# Compute fpr, tpr, thresholds and roc auc\n",
    "fpr, tpr, thresholds = roc_curve(y_test, LR_predicted)\n",
    "roc_auc = auc(y_test, LR_predicted)\n",
    "\n",
    "# Plot ROC curve\n",
    "plt.plot(fpr, tpr, label='ROC curve (area = %0.3f)' % roc_auc)\n",
    "plt.plot([0, 1], [0, 1], 'k--')  # random predictions curve\n",
    "plt.xlim([0.0, 1.0])\n",
    "plt.ylim([0.0, 1.0])\n",
    "plt.xlabel('False Positive Rate or (1 - Specifity)')\n",
    "plt.ylabel('True Positive Rate or (Sensitivity)')\n",
    "plt.title('Receiver Operating Characteristic')\n",
    "plt.legend(loc=\"lower right\")"
   ]
  },
  {
   "cell_type": "code",
   "execution_count": 36,
   "metadata": {},
   "outputs": [
    {
     "name": "stdout",
     "output_type": "stream",
     "text": [
      "Accuracy: 0.7219812432081968\n",
      "Confusion matrix: [[155785  59776]\n",
      " [  1114   2339]]\n",
      "F1 score: 0.07134577842850172\n"
     ]
    },
    {
     "data": {
      "text/plain": [
       "<matplotlib.legend.Legend at 0x1b80b47e108>"
      ]
     },
     "execution_count": 36,
     "metadata": {},
     "output_type": "execute_result"
    },
    {
     "data": {
      "image/png": "[encoded data removed]",
      "text/plain": [
       "<Figure size 432x288 with 1 Axes>"
      ]
     },
     "metadata": {
      "needs_background": "light"
     },
     "output_type": "display_data"
    }
   ],
   "source": [
    "GB_predicted = gb_clf.predict(X_test)\n",
    "print(\"Accuracy:\", accuracy_score(y_test, GB_predicted))\n",
    "print(\"Confusion matrix:\", confusion_matrix(y_test, GB_predicted))\n",
    "print(\"F1 score:\", f1_score(y_test, GB_predicted))\n",
    "\n",
    "# Compute fpr, tpr, thresholds and roc auc\n",
    "fpr, tpr, thresholds = roc_curve(y_test, GB_predicted)\n",
    "roc_auc = auc(y_test, GB_predicted)\n",
    "\n",
    "# Plot ROC curve\n",
    "plt.plot(fpr, tpr, label='ROC curve (area = %0.3f)' % roc_auc)\n",
    "plt.plot([0, 1], [0, 1], 'k--')  # random predictions curve\n",
    "plt.xlim([0.0, 1.0])\n",
    "plt.ylim([0.0, 1.0])\n",
    "plt.xlabel('False Positive Rate or (1 - Specifity)')\n",
    "plt.ylabel('True Positive Rate or (Sensitivity)')\n",
    "plt.title('Receiver Operating Characteristic')\n",
    "plt.legend(loc=\"lower right\")"
   ]
  },
  {
   "cell_type": "markdown",
   "metadata": {},
   "source": [
    "**Conclusion:**\n",
    "\n",
    "- From the above ROC charts and performance metrics, Random Forest classifier performs slightly better than GBM and Logistic regression. However, the overall accuracy is poor due to high number of False positives. \n",
    "- This is likely because the balanced training dataset had a high number of frauds than the test set. \n",
    "- Low correlation with the features is also another reason for the poor fit & performance.\n",
    "\n",
    "\n",
    "**Things than can be improved, but didn't have time:**\n",
    "\n",
    "1. Feature engineering: Various transformations, combinations of the features could be tried. (eg: ratio of balance & limit, log of transaction amount, etc.)\n",
    "2. Cross validation (on a seperate data set) could be performed to optimize model selection\n",
    "3. Bias-Variance analysis to see if additional data or features are required to improve model performance\n",
    "4. Tuning of hyperparameteres for the classifiers.\n",
    "5. Other ensemble techniques such as LightGBM, decision tress can be used.\n",
    "6. Neural Networks could be very useful for fraud modelling, especially in cases where feature relationships are not easily understood\n",
    "\n",
    "**Some questions I have:**\n",
    "1. How is the transaction authorized if cardCVV and enteredCVV are different? Not sure if this is fraud.\n",
    "2. Is fraud prediction used for Address verification transaction types? (Assumed it is not relevant and excluded for model building )\n",
    "\n",
    "\n"
   ]
  }
 ],
 "metadata": {
  "kernelspec": {
   "display_name": "Python 3",
   "language": "python",
   "name": "python3"
  },
  "language_info": {
   "codemirror_mode": {
    "name": "ipython",
    "version": 3
   },
   "file_extension": ".py",
   "mimetype": "text/x-python",
   "name": "python",
   "nbconvert_exporter": "python",
   "pygments_lexer": "ipython3",
   "version": "3.7.6"
  }
 },
 "nbformat": 4,
 "nbformat_minor": 2
}
